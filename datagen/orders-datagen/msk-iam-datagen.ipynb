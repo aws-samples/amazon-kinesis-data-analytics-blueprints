﻿{
  "metadata": {
    "name": "msk-iam-datagen",
    "kernelspec": {
      "language": "scala",
      "name": "spark2-scala"
    },
    "language_info": {
      "codemirror_mode": "text/x-scala",
      "file_extension": ".scala",
      "mimetype": "text/x-scala",
      "name": "scala",
      "pygments_lexer": "scala"
    }
  },
  "nbformat": 4,
  "nbformat_minor": 2,
  "cells": [
    {
      "cell_type": "code",
      "execution_count": 0,
      "metadata": {
        "autoscroll": "auto"
      },
      "outputs": [],
      "source": "%flink\n\nimport org.apache.kafka.clients.admin.AdminClient\nimport org.apache.kafka.clients.admin.AdminClientConfig\nimport java.util.Properties\n\n// replace with your brokers, etc...\nval bootstrapServers : String \u003d \"boot-jh3g3srn.c3.kafka-serverless.us-east-2.amazonaws.com:9098\"\nvar config \u003d new Properties()\nconfig.put(AdminClientConfig.BOOTSTRAP_SERVERS_CONFIG, bootstrapServers)\nconfig.put(\"security.protocol\", \"SASL_SSL\")\nconfig.put(\"sasl.mechanism\", \"AWS_MSK_IAM\")\nconfig.put(\"sasl.jaas.config\", \"software.amazon.msk.auth.iam.IAMLoginModule required;\")\nconfig.put(\"sasl.client.callback.handler.class\", \"software.amazon.msk.auth.iam.IAMClientCallbackHandler\")\nvar admin \u003d AdminClient.create(config)\n"
    },
    {
      "cell_type": "code",
      "execution_count": 1,
      "metadata": {
        "autoscroll": "auto"
      },
      "outputs": [],
      "source": "%flink\n\n// list topics\nvar topicListing \u003d admin.listTopics().listings().get()"
    },
    {
      "cell_type": "code",
      "execution_count": 2,
      "metadata": {
        "autoscroll": "auto"
      },
      "outputs": [],
      "source": "%flink\n\nimport org.apache.kafka.clients.admin.NewTopic\n\n// 3 partitions and replication factor of 1\nvar newTopic \u003d new NewTopic(\"MyOrdersTopic\", 3, 1.toShort);\nadmin.createTopics(Collections.singleton(newTopic));"
    },
    {
      "cell_type": "code",
      "execution_count": 3,
      "metadata": {
        "autoscroll": "auto"
      },
      "outputs": [],
      "source": "%flink\n\nadmin.deleteTopics(Collections.singleton(\"DatagenJsonTopic2\"))"
    },
    {
      "cell_type": "code",
      "execution_count": 4,
      "metadata": {
        "autoscroll": "auto"
      },
      "outputs": [],
      "source": "%flink.ssql\n\nDROP TABLE IF EXISTS orders_datagen_source;\n\nCREATE TABLE orders_datagen_source (\n    product_id   BIGINT,\n    order_number BIGINT,\n    quantity     INT,\n    price_int    INT,\n    price        AS CAST(price_int/100.0 AS DECIMAL(32, 2)),\n    buyer        STRING,\n    order_time   TIMESTAMP(3)\n)\nWITH (\n    \u0027connector\u0027\u003d \u0027datagen\u0027,\n    \u0027fields.product_id.min\u0027 \u003d \u00271\u0027,\n    \u0027fields.product_id.max\u0027 \u003d \u002799999\u0027,\n    \u0027fields.quantity.min\u0027 \u003d \u00271\u0027,\n    \u0027fields.quantity.max\u0027 \u003d \u002725\u0027,\n    \u0027fields.price_int.min\u0027 \u003d \u002729\u0027,\n    \u0027fields.price_int.max\u0027 \u003d \u002799999999\u0027,\n    \u0027fields.order_number.min\u0027 \u003d \u00271\u0027,\n    \u0027fields.order_number.max\u0027 \u003d \u00279999999999\u0027,\n    \u0027fields.buyer.length\u0027 \u003d \u002715\u0027\n);\n"
    },
    {
      "cell_type": "code",
      "execution_count": 5,
      "metadata": {
        "autoscroll": "auto"
      },
      "outputs": [],
      "source": "%flink.ssql\n\nDROP TABLE IF EXISTS orders_msk;\n\nCREATE TABLE orders_msk (\n    product_id   BIGINT,\n    order_number BIGINT,\n    quantity     INT,\n    price        DECIMAL(32, 2),\n    buyer        STRING,\n    order_time   TIMESTAMP(3)\n)\nWITH (\n    \u0027connector\u0027\u003d \u0027kafka\u0027,\n    \u0027topic\u0027 \u003d \u0027MyOrdersTopic\u0027,\n    \u0027format\u0027 \u003d \u0027json\u0027,\n    \u0027scan.startup.mode\u0027 \u003d \u0027earliest-offset\u0027,\n    \u0027properties.bootstrap.servers\u0027 \u003d \u0027boot-jh3g3srn.c3.kafka-serverless.us-east-2.amazonaws.com:9098\u0027,\n    \u0027properties.security.protocol\u0027 \u003d \u0027SASL_SSL\u0027,\n    \u0027properties.sasl.mechanism\u0027 \u003d \u0027AWS_MSK_IAM\u0027,\n    \u0027properties.sasl.jaas.config\u0027 \u003d \u0027software.amazon.msk.auth.iam.IAMLoginModule required;\u0027,\n    \u0027properties.sasl.client.callback.handler.class\u0027 \u003d \u0027software.amazon.msk.auth.iam.IAMClientCallbackHandler\u0027\n);\n"
    },
    {
      "cell_type": "code",
      "execution_count": 6,
      "metadata": {
        "autoscroll": "auto"
      },
      "outputs": [],
      "source": "%flink.pyflink\n\ns_env.disable_operator_chaining()\n"
    },
    {
      "cell_type": "code",
      "execution_count": 7,
      "metadata": {
        "autoscroll": "auto"
      },
      "outputs": [],
      "source": "%flink.ssql(parallelism\u003d2)\n\nINSERT INTO orders_msk\nSELECT \n    product_id,\n    order_number,\n    quantity,\n    price,\n    buyer,\n    order_time\nFROM orders_datagen_source;"
    },
    {
      "cell_type": "code",
      "execution_count": 8,
      "metadata": {
        "autoscroll": "auto"
      },
      "outputs": [],
      "source": "%flink.ssql(type\u003dupdate, parallelism\u003d2)\n\nselect * from orders_msk;"
    }
  ]
}